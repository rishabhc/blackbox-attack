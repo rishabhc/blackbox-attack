{
 "cells": [
  {
   "cell_type": "code",
   "execution_count": 1,
   "metadata": {},
   "outputs": [
    {
     "name": "stderr",
     "output_type": "stream",
     "text": [
      "Using TensorFlow backend.\n"
     ]
    },
    {
     "name": "stdout",
     "output_type": "stream",
     "text": [
      "\n",
      "WARNING: The TensorFlow contrib module will not be included in TensorFlow 2.0.\n",
      "For more information, please see:\n",
      "  * https://github.com/tensorflow/community/blob/master/rfcs/20180907-contrib-sunset.md\n",
      "  * https://github.com/tensorflow/addons\n",
      "If you depend on functionality not listed there, please file an issue.\n",
      "\n",
      "WARNING:tensorflow:From /home/chhabra4/anaconda3/envs/attack/lib/python3.6/site-packages/tensorflow/python/ops/tensor_array_ops.py:162: colocate_with (from tensorflow.python.framework.ops) is deprecated and will be removed in a future version.\n",
      "Instructions for updating:\n",
      "Colocations handled automatically by placer.\n",
      "WARNING:tensorflow:From /home/chhabra4/anaconda3/envs/attack/lib/python3.6/site-packages/tensorflow/python/ops/image_ops_impl.py:1241: div (from tensorflow.python.ops.math_ops) is deprecated and will be removed in a future version.\n",
      "Instructions for updating:\n",
      "Deprecated in favor of operator or tf.math.divide.\n",
      "WARNING:tensorflow:From /home/chhabra4/Hybrid-Attack/cifar10/robust_model_utils/madry_model.py:181: UniformUnitScaling.__init__ (from tensorflow.python.ops.init_ops) is deprecated and will be removed in a future version.\n",
      "Instructions for updating:\n",
      "Use tf.initializers.variance_scaling instead with distribution=uniform to get equivalent behavior.\n",
      "WARNING:tensorflow:From /home/chhabra4/anaconda3/envs/attack/lib/python3.6/site-packages/tensorflow/python/training/saver.py:1266: checkpoint_exists (from tensorflow.python.training.checkpoint_management) is deprecated and will be removed in a future version.\n",
      "Instructions for updating:\n",
      "Use standard file APIs to check for files with this prefix.\n",
      "INFO:tensorflow:Restoring parameters from CIFAR10_models/Robust_Deep_models/Madry_robust_target_model/checkpoint-70000\n"
     ]
    }
   ],
   "source": [
    "import sys, os\n",
    "os.environ[\"CUDA_VISIBLE_DEVICES\"]=\"0\"\n",
    "\n",
    "import keras\n",
    "from keras.datasets import cifar10\n",
    "from keras.models import Model\n",
    "from keras.layers import Input, Dense, Conv2D, MaxPooling2D, UpSampling2D, BatchNormalization\n",
    "from keras.callbacks import TensorBoard\n",
    "from keras import backend as K\n",
    "import numpy as np\n",
    "import tensorflow as tf\n",
    "tf.enable_eager_execution()\n",
    "\n",
    "from cifar10_robust_models import Load_Madry_Model, cifar10_tf_robust_models\n",
    "\n",
    "with tf.Session() as sess:\n",
    "    keras.backend.set_session(sess)\n",
    "    model_dir = \"CIFAR10_models/Robust_Deep_models/Madry_robust_target_model\"\n",
    "    target_model2 = Load_Madry_Model(sess, model_dir,bias = 0.5, scale = 255)\n",
    "    \n",
    "    input_img = Input(shape=(32, 32, 3))\n",
    "\n",
    "    x = Conv2D(64, (3, 3), activation='relu', padding='same')(input_img)\n",
    "    x = BatchNormalization()(x)\n",
    "    x = MaxPooling2D((2, 2), padding='same')(x)\n",
    "\n",
    "    x = Conv2D(16, (3, 3), activation='relu', padding='same')(x)\n",
    "    x = BatchNormalization()(x)\n",
    "    encoded = MaxPooling2D((2, 2), padding='same')(x)\n",
    "    \n",
    "    x = Conv2D(16, (3, 3), activation='relu', padding='same')(encoded)\n",
    "    x = BatchNormalization()(x)\n",
    "    x = UpSampling2D((2, 2))(x)\n",
    "\n",
    "    x = Conv2D(32, (3, 3), activation='relu', padding='same')(x)\n",
    "    x = BatchNormalization()(x)\n",
    "    x = UpSampling2D((2, 2))(x)\n",
    "    decoded = Conv2D(3, (3, 3), activation='sigmoid', padding='same')(x)\n",
    "    \n",
    "    def custom_loss():\n",
    "\n",
    "        # Create a loss function that adds the MSE loss to the mean of all squared activations of a specific layer\n",
    "        def loss(y_true,y_pred):\n",
    "            prob_pred = tf.py_function(target_model2.predict_prob_temp, inp=[y_pred], Tout=tf.float32)\n",
    "            prob_true = tf.py_function(target_model2.predict_prob_temp, inp=[y_true], Tout=tf.float32)\n",
    "            tf.print(y_true, output_stream=sys.stderr)\n",
    "            return K.mean(K.square(y_true - y_pred), axis=-1)\n",
    "\n",
    "        # Return a function\n",
    "        return loss\n",
    "    \n",
    "    autoencoder = Model(input_img, decoded)\n",
    "    autoencoder.compile(optimizer='adam', loss=custom_loss(), run_eagerly=True)\n",
    "\n",
    "    autoencoder.fit(x_train, x_train,\n",
    "                    epochs=1,\n",
    "                    batch_size=1,\n",
    "                    shuffle=True,\n",
    "                    validation_data=(x_test, x_test),\n",
    "                    callbacks=[TensorBoard(log_dir='/tmp/autoencoder')],\n",
    "                    )\n",
    "\n",
    "    autoencoder.summary()\n"
   ]
  },
  {
   "cell_type": "code",
   "execution_count": 2,
   "metadata": {},
   "outputs": [],
   "source": [
    "(x_train, y_train), (x_test, y_test) = cifar10.load_data()"
   ]
  },
  {
   "cell_type": "code",
   "execution_count": 3,
   "metadata": {},
   "outputs": [
    {
     "data": {
      "text/plain": [
       "(100, 32, 32, 3)"
      ]
     },
     "execution_count": 3,
     "metadata": {},
     "output_type": "execute_result"
    }
   ],
   "source": [
    "x_train = x_train.astype('float32') / 255.\n",
    "x_test = x_test.astype('float32') / 255.\n",
    "x_train = x_train[:100]\n",
    "y_train = y_train[:100]\n",
    "x_test = x_test[:100]\n",
    "y_test = y_test[:100]\n",
    "x_train.shape"
   ]
  },
  {
   "cell_type": "code",
   "execution_count": 4,
   "metadata": {},
   "outputs": [
    {
     "ename": "RuntimeError",
     "evalue": "Attempted to use a closed Session.",
     "output_type": "error",
     "traceback": [
      "\u001b[0;31m---------------------------------------------------------------------------\u001b[0m",
      "\u001b[0;31mRuntimeError\u001b[0m                              Traceback (most recent call last)",
      "\u001b[0;32m<ipython-input-4-9cfece312adf>\u001b[0m in \u001b[0;36m<module>\u001b[0;34m()\u001b[0m\n\u001b[1;32m      4\u001b[0m \u001b[0;34m\u001b[0m\u001b[0m\n\u001b[1;32m      5\u001b[0m     \u001b[0mx\u001b[0m \u001b[0;34m=\u001b[0m \u001b[0mConv2D\u001b[0m\u001b[0;34m(\u001b[0m\u001b[0;36m64\u001b[0m\u001b[0;34m,\u001b[0m \u001b[0;34m(\u001b[0m\u001b[0;36m3\u001b[0m\u001b[0;34m,\u001b[0m \u001b[0;36m3\u001b[0m\u001b[0;34m)\u001b[0m\u001b[0;34m,\u001b[0m \u001b[0mactivation\u001b[0m\u001b[0;34m=\u001b[0m\u001b[0;34m'relu'\u001b[0m\u001b[0;34m,\u001b[0m \u001b[0mpadding\u001b[0m\u001b[0;34m=\u001b[0m\u001b[0;34m'same'\u001b[0m\u001b[0;34m)\u001b[0m\u001b[0;34m(\u001b[0m\u001b[0minput_img\u001b[0m\u001b[0;34m)\u001b[0m\u001b[0;34m\u001b[0m\u001b[0;34m\u001b[0m\u001b[0m\n\u001b[0;32m----> 6\u001b[0;31m     \u001b[0mx\u001b[0m \u001b[0;34m=\u001b[0m \u001b[0mBatchNormalization\u001b[0m\u001b[0;34m(\u001b[0m\u001b[0;34m)\u001b[0m\u001b[0;34m(\u001b[0m\u001b[0mx\u001b[0m\u001b[0;34m)\u001b[0m\u001b[0;34m\u001b[0m\u001b[0;34m\u001b[0m\u001b[0m\n\u001b[0m\u001b[1;32m      7\u001b[0m     \u001b[0mx\u001b[0m \u001b[0;34m=\u001b[0m \u001b[0mMaxPooling2D\u001b[0m\u001b[0;34m(\u001b[0m\u001b[0;34m(\u001b[0m\u001b[0;36m2\u001b[0m\u001b[0;34m,\u001b[0m \u001b[0;36m2\u001b[0m\u001b[0;34m)\u001b[0m\u001b[0;34m,\u001b[0m \u001b[0mpadding\u001b[0m\u001b[0;34m=\u001b[0m\u001b[0;34m'same'\u001b[0m\u001b[0;34m)\u001b[0m\u001b[0;34m(\u001b[0m\u001b[0mx\u001b[0m\u001b[0;34m)\u001b[0m\u001b[0;34m\u001b[0m\u001b[0;34m\u001b[0m\u001b[0m\n\u001b[1;32m      8\u001b[0m \u001b[0;34m\u001b[0m\u001b[0m\n",
      "\u001b[0;32m/home/chhabra4/anaconda3/envs/attack/lib/python3.6/site-packages/keras/engine/base_layer.py\u001b[0m in \u001b[0;36m__call__\u001b[0;34m(self, inputs, **kwargs)\u001b[0m\n\u001b[1;32m    455\u001b[0m             \u001b[0;31m# Actually call the layer,\u001b[0m\u001b[0;34m\u001b[0m\u001b[0;34m\u001b[0m\u001b[0;34m\u001b[0m\u001b[0m\n\u001b[1;32m    456\u001b[0m             \u001b[0;31m# collecting output(s), mask(s), and shape(s).\u001b[0m\u001b[0;34m\u001b[0m\u001b[0;34m\u001b[0m\u001b[0;34m\u001b[0m\u001b[0m\n\u001b[0;32m--> 457\u001b[0;31m             \u001b[0moutput\u001b[0m \u001b[0;34m=\u001b[0m \u001b[0mself\u001b[0m\u001b[0;34m.\u001b[0m\u001b[0mcall\u001b[0m\u001b[0;34m(\u001b[0m\u001b[0minputs\u001b[0m\u001b[0;34m,\u001b[0m \u001b[0;34m**\u001b[0m\u001b[0mkwargs\u001b[0m\u001b[0;34m)\u001b[0m\u001b[0;34m\u001b[0m\u001b[0;34m\u001b[0m\u001b[0m\n\u001b[0m\u001b[1;32m    458\u001b[0m             \u001b[0moutput_mask\u001b[0m \u001b[0;34m=\u001b[0m \u001b[0mself\u001b[0m\u001b[0;34m.\u001b[0m\u001b[0mcompute_mask\u001b[0m\u001b[0;34m(\u001b[0m\u001b[0minputs\u001b[0m\u001b[0;34m,\u001b[0m \u001b[0mprevious_mask\u001b[0m\u001b[0;34m)\u001b[0m\u001b[0;34m\u001b[0m\u001b[0;34m\u001b[0m\u001b[0m\n\u001b[1;32m    459\u001b[0m \u001b[0;34m\u001b[0m\u001b[0m\n",
      "\u001b[0;32m/home/chhabra4/anaconda3/envs/attack/lib/python3.6/site-packages/keras/layers/normalization.py\u001b[0m in \u001b[0;36mcall\u001b[0;34m(self, inputs, training)\u001b[0m\n\u001b[1;32m    183\u001b[0m         normed_training, mean, variance = K.normalize_batch_in_training(\n\u001b[1;32m    184\u001b[0m             \u001b[0minputs\u001b[0m\u001b[0;34m,\u001b[0m \u001b[0mself\u001b[0m\u001b[0;34m.\u001b[0m\u001b[0mgamma\u001b[0m\u001b[0;34m,\u001b[0m \u001b[0mself\u001b[0m\u001b[0;34m.\u001b[0m\u001b[0mbeta\u001b[0m\u001b[0;34m,\u001b[0m \u001b[0mreduction_axes\u001b[0m\u001b[0;34m,\u001b[0m\u001b[0;34m\u001b[0m\u001b[0;34m\u001b[0m\u001b[0m\n\u001b[0;32m--> 185\u001b[0;31m             epsilon=self.epsilon)\n\u001b[0m\u001b[1;32m    186\u001b[0m \u001b[0;34m\u001b[0m\u001b[0m\n\u001b[1;32m    187\u001b[0m         \u001b[0;32mif\u001b[0m \u001b[0mK\u001b[0m\u001b[0;34m.\u001b[0m\u001b[0mbackend\u001b[0m\u001b[0;34m(\u001b[0m\u001b[0;34m)\u001b[0m \u001b[0;34m!=\u001b[0m \u001b[0;34m'cntk'\u001b[0m\u001b[0;34m:\u001b[0m\u001b[0;34m\u001b[0m\u001b[0;34m\u001b[0m\u001b[0m\n",
      "\u001b[0;32m/home/chhabra4/anaconda3/envs/attack/lib/python3.6/site-packages/keras/backend/tensorflow_backend.py\u001b[0m in \u001b[0;36mnormalize_batch_in_training\u001b[0;34m(x, gamma, beta, reduction_axes, epsilon)\u001b[0m\n\u001b[1;32m   1856\u001b[0m     \"\"\"\n\u001b[1;32m   1857\u001b[0m     \u001b[0;32mif\u001b[0m \u001b[0mndim\u001b[0m\u001b[0;34m(\u001b[0m\u001b[0mx\u001b[0m\u001b[0;34m)\u001b[0m \u001b[0;34m==\u001b[0m \u001b[0;36m4\u001b[0m \u001b[0;32mand\u001b[0m \u001b[0mlist\u001b[0m\u001b[0;34m(\u001b[0m\u001b[0mreduction_axes\u001b[0m\u001b[0;34m)\u001b[0m \u001b[0;32min\u001b[0m \u001b[0;34m[\u001b[0m\u001b[0;34m[\u001b[0m\u001b[0;36m0\u001b[0m\u001b[0;34m,\u001b[0m \u001b[0;36m1\u001b[0m\u001b[0;34m,\u001b[0m \u001b[0;36m2\u001b[0m\u001b[0;34m]\u001b[0m\u001b[0;34m,\u001b[0m \u001b[0;34m[\u001b[0m\u001b[0;36m0\u001b[0m\u001b[0;34m,\u001b[0m \u001b[0;36m2\u001b[0m\u001b[0;34m,\u001b[0m \u001b[0;36m3\u001b[0m\u001b[0;34m]\u001b[0m\u001b[0;34m]\u001b[0m\u001b[0;34m:\u001b[0m\u001b[0;34m\u001b[0m\u001b[0;34m\u001b[0m\u001b[0m\n\u001b[0;32m-> 1858\u001b[0;31m         \u001b[0;32mif\u001b[0m \u001b[0;32mnot\u001b[0m \u001b[0m_has_nchw_support\u001b[0m\u001b[0;34m(\u001b[0m\u001b[0;34m)\u001b[0m \u001b[0;32mand\u001b[0m \u001b[0mlist\u001b[0m\u001b[0;34m(\u001b[0m\u001b[0mreduction_axes\u001b[0m\u001b[0;34m)\u001b[0m \u001b[0;34m==\u001b[0m \u001b[0;34m[\u001b[0m\u001b[0;36m0\u001b[0m\u001b[0;34m,\u001b[0m \u001b[0;36m2\u001b[0m\u001b[0;34m,\u001b[0m \u001b[0;36m3\u001b[0m\u001b[0;34m]\u001b[0m\u001b[0;34m:\u001b[0m\u001b[0;34m\u001b[0m\u001b[0;34m\u001b[0m\u001b[0m\n\u001b[0m\u001b[1;32m   1859\u001b[0m             return _broadcast_normalize_batch_in_training(x, gamma, beta,\n\u001b[1;32m   1860\u001b[0m                                                           \u001b[0mreduction_axes\u001b[0m\u001b[0;34m,\u001b[0m\u001b[0;34m\u001b[0m\u001b[0;34m\u001b[0m\u001b[0m\n",
      "\u001b[0;32m/home/chhabra4/anaconda3/envs/attack/lib/python3.6/site-packages/keras/backend/tensorflow_backend.py\u001b[0m in \u001b[0;36m_has_nchw_support\u001b[0;34m()\u001b[0m\n\u001b[1;32m    290\u001b[0m     \"\"\"\n\u001b[1;32m    291\u001b[0m     \u001b[0mexplicitly_on_cpu\u001b[0m \u001b[0;34m=\u001b[0m \u001b[0m_is_current_explicit_device\u001b[0m\u001b[0;34m(\u001b[0m\u001b[0;34m'CPU'\u001b[0m\u001b[0;34m)\u001b[0m\u001b[0;34m\u001b[0m\u001b[0;34m\u001b[0m\u001b[0m\n\u001b[0;32m--> 292\u001b[0;31m     \u001b[0mgpus_available\u001b[0m \u001b[0;34m=\u001b[0m \u001b[0mlen\u001b[0m\u001b[0;34m(\u001b[0m\u001b[0m_get_available_gpus\u001b[0m\u001b[0;34m(\u001b[0m\u001b[0;34m)\u001b[0m\u001b[0;34m)\u001b[0m \u001b[0;34m>\u001b[0m \u001b[0;36m0\u001b[0m\u001b[0;34m\u001b[0m\u001b[0;34m\u001b[0m\u001b[0m\n\u001b[0m\u001b[1;32m    293\u001b[0m     \u001b[0;32mreturn\u001b[0m \u001b[0;34m(\u001b[0m\u001b[0;32mnot\u001b[0m \u001b[0mexplicitly_on_cpu\u001b[0m \u001b[0;32mand\u001b[0m \u001b[0mgpus_available\u001b[0m\u001b[0;34m)\u001b[0m\u001b[0;34m\u001b[0m\u001b[0;34m\u001b[0m\u001b[0m\n\u001b[1;32m    294\u001b[0m \u001b[0;34m\u001b[0m\u001b[0m\n",
      "\u001b[0;32m/home/chhabra4/anaconda3/envs/attack/lib/python3.6/site-packages/keras/backend/tensorflow_backend.py\u001b[0m in \u001b[0;36m_get_available_gpus\u001b[0;34m()\u001b[0m\n\u001b[1;32m    276\u001b[0m     \u001b[0;32mglobal\u001b[0m \u001b[0m_LOCAL_DEVICES\u001b[0m\u001b[0;34m\u001b[0m\u001b[0;34m\u001b[0m\u001b[0m\n\u001b[1;32m    277\u001b[0m     \u001b[0;32mif\u001b[0m \u001b[0m_LOCAL_DEVICES\u001b[0m \u001b[0;32mis\u001b[0m \u001b[0;32mNone\u001b[0m\u001b[0;34m:\u001b[0m\u001b[0;34m\u001b[0m\u001b[0;34m\u001b[0m\u001b[0m\n\u001b[0;32m--> 278\u001b[0;31m         \u001b[0m_LOCAL_DEVICES\u001b[0m \u001b[0;34m=\u001b[0m \u001b[0mget_session\u001b[0m\u001b[0;34m(\u001b[0m\u001b[0;34m)\u001b[0m\u001b[0;34m.\u001b[0m\u001b[0mlist_devices\u001b[0m\u001b[0;34m(\u001b[0m\u001b[0;34m)\u001b[0m\u001b[0;34m\u001b[0m\u001b[0;34m\u001b[0m\u001b[0m\n\u001b[0m\u001b[1;32m    279\u001b[0m     \u001b[0;32mreturn\u001b[0m \u001b[0;34m[\u001b[0m\u001b[0mx\u001b[0m\u001b[0;34m.\u001b[0m\u001b[0mname\u001b[0m \u001b[0;32mfor\u001b[0m \u001b[0mx\u001b[0m \u001b[0;32min\u001b[0m \u001b[0m_LOCAL_DEVICES\u001b[0m \u001b[0;32mif\u001b[0m \u001b[0mx\u001b[0m\u001b[0;34m.\u001b[0m\u001b[0mdevice_type\u001b[0m \u001b[0;34m==\u001b[0m \u001b[0;34m'GPU'\u001b[0m\u001b[0;34m]\u001b[0m\u001b[0;34m\u001b[0m\u001b[0;34m\u001b[0m\u001b[0m\n\u001b[1;32m    280\u001b[0m \u001b[0;34m\u001b[0m\u001b[0m\n",
      "\u001b[0;32m/home/chhabra4/anaconda3/envs/attack/lib/python3.6/site-packages/keras/backend/tensorflow_backend.py\u001b[0m in \u001b[0;36mget_session\u001b[0;34m()\u001b[0m\n\u001b[1;32m    197\u001b[0m                 \u001b[0;31m# not already marked as initialized.\u001b[0m\u001b[0;34m\u001b[0m\u001b[0;34m\u001b[0m\u001b[0;34m\u001b[0m\u001b[0m\n\u001b[1;32m    198\u001b[0m                 is_initialized = session.run(\n\u001b[0;32m--> 199\u001b[0;31m                     [tf.is_variable_initialized(v) for v in candidate_vars])\n\u001b[0m\u001b[1;32m    200\u001b[0m                 \u001b[0muninitialized_vars\u001b[0m \u001b[0;34m=\u001b[0m \u001b[0;34m[\u001b[0m\u001b[0;34m]\u001b[0m\u001b[0;34m\u001b[0m\u001b[0;34m\u001b[0m\u001b[0m\n\u001b[1;32m    201\u001b[0m                 \u001b[0;32mfor\u001b[0m \u001b[0mflag\u001b[0m\u001b[0;34m,\u001b[0m \u001b[0mv\u001b[0m \u001b[0;32min\u001b[0m \u001b[0mzip\u001b[0m\u001b[0;34m(\u001b[0m\u001b[0mis_initialized\u001b[0m\u001b[0;34m,\u001b[0m \u001b[0mcandidate_vars\u001b[0m\u001b[0;34m)\u001b[0m\u001b[0;34m:\u001b[0m\u001b[0;34m\u001b[0m\u001b[0;34m\u001b[0m\u001b[0m\n",
      "\u001b[0;32m/home/chhabra4/anaconda3/envs/attack/lib/python3.6/site-packages/tensorflow/python/client/session.py\u001b[0m in \u001b[0;36mrun\u001b[0;34m(self, fetches, feed_dict, options, run_metadata)\u001b[0m\n\u001b[1;32m    927\u001b[0m     \u001b[0;32mtry\u001b[0m\u001b[0;34m:\u001b[0m\u001b[0;34m\u001b[0m\u001b[0;34m\u001b[0m\u001b[0m\n\u001b[1;32m    928\u001b[0m       result = self._run(None, fetches, feed_dict, options_ptr,\n\u001b[0;32m--> 929\u001b[0;31m                          run_metadata_ptr)\n\u001b[0m\u001b[1;32m    930\u001b[0m       \u001b[0;32mif\u001b[0m \u001b[0mrun_metadata\u001b[0m\u001b[0;34m:\u001b[0m\u001b[0;34m\u001b[0m\u001b[0;34m\u001b[0m\u001b[0m\n\u001b[1;32m    931\u001b[0m         \u001b[0mproto_data\u001b[0m \u001b[0;34m=\u001b[0m \u001b[0mtf_session\u001b[0m\u001b[0;34m.\u001b[0m\u001b[0mTF_GetBuffer\u001b[0m\u001b[0;34m(\u001b[0m\u001b[0mrun_metadata_ptr\u001b[0m\u001b[0;34m)\u001b[0m\u001b[0;34m\u001b[0m\u001b[0;34m\u001b[0m\u001b[0m\n",
      "\u001b[0;32m/home/chhabra4/anaconda3/envs/attack/lib/python3.6/site-packages/tensorflow/python/client/session.py\u001b[0m in \u001b[0;36m_run\u001b[0;34m(self, handle, fetches, feed_dict, options, run_metadata)\u001b[0m\n\u001b[1;32m   1073\u001b[0m     \u001b[0;31m# Check session.\u001b[0m\u001b[0;34m\u001b[0m\u001b[0;34m\u001b[0m\u001b[0;34m\u001b[0m\u001b[0m\n\u001b[1;32m   1074\u001b[0m     \u001b[0;32mif\u001b[0m \u001b[0mself\u001b[0m\u001b[0;34m.\u001b[0m\u001b[0m_closed\u001b[0m\u001b[0;34m:\u001b[0m\u001b[0;34m\u001b[0m\u001b[0;34m\u001b[0m\u001b[0m\n\u001b[0;32m-> 1075\u001b[0;31m       \u001b[0;32mraise\u001b[0m \u001b[0mRuntimeError\u001b[0m\u001b[0;34m(\u001b[0m\u001b[0;34m'Attempted to use a closed Session.'\u001b[0m\u001b[0;34m)\u001b[0m\u001b[0;34m\u001b[0m\u001b[0;34m\u001b[0m\u001b[0m\n\u001b[0m\u001b[1;32m   1076\u001b[0m     \u001b[0;32mif\u001b[0m \u001b[0mself\u001b[0m\u001b[0;34m.\u001b[0m\u001b[0mgraph\u001b[0m\u001b[0;34m.\u001b[0m\u001b[0mversion\u001b[0m \u001b[0;34m==\u001b[0m \u001b[0;36m0\u001b[0m\u001b[0;34m:\u001b[0m\u001b[0;34m\u001b[0m\u001b[0;34m\u001b[0m\u001b[0m\n\u001b[1;32m   1077\u001b[0m       raise RuntimeError('The Session graph is empty.  Add operations to the '\n",
      "\u001b[0;31mRuntimeError\u001b[0m: Attempted to use a closed Session."
     ]
    }
   ],
   "source": [
    "#Encoder model\n",
    "with sess:\n",
    "    "
   ]
  },
  {
   "cell_type": "code",
   "execution_count": 7,
   "metadata": {},
   "outputs": [],
   "source": [
    "#Decoder model\n",
    "with sess:\n",
    "    "
   ]
  },
  {
   "cell_type": "code",
   "execution_count": 8,
   "metadata": {},
   "outputs": [],
   "source": [
    "# @tf.custom_gradient\n",
    "# def py_loss_fn(y_true, y_pred):\n",
    "#     \"\"\" This function takes eager tensors as inputs which can be explicitly\n",
    "#     converted to np.arrays via EagerTensor.numpy() or implicitly converted\n",
    "#     by applying numpy operations to them.\n",
    "\n",
    "#     However, once tf operations are no longer used it means that the function has to\n",
    "#     implement its own gradient function.\n",
    "#     \"\"\"\n",
    "#     def grad(dy):\n",
    "#         \"\"\" Compute gradients for function inputs.\n",
    "#             Ignore input[0] (y_true) since that is model.targets[0]\n",
    "#         \"\"\"\n",
    "#         g = np.mean(-dy * np.sign(y_true - y_pred), axis=1)[:, np.newaxis]\n",
    "#         return None, g\n",
    "    \n",
    "#     prob_pred = target_model2.predict_prob_temp(y_pred)\n",
    "#     prob_true = target_model2.predict_prob_temp(y_true)\n",
    "#     return cross_entropy(prob_pred, prob_true), grad\n",
    "\n",
    "# def cross_entropy(p, q):\n",
    "#     return -sum([p[i]*log(q[i]) for i in range(len(p))])\n",
    "\n",
    "# def custom_loss():\n",
    "\n",
    "#     # Create a loss function that adds the MSE loss to the mean of all squared activations of a specific layer\n",
    "#     def new_loss(y_true,y_pred):\n",
    "#         prob_pred = tf.py_function(target_model2.predict_prob_temp, inp=[y_pred], Tout=tf.float32)\n",
    "#         prob_true = tf.py_function(target_model2.predict_prob_temp, inp=[y_true], Tout=tf.float32)\n",
    "#         tf.print(prob_pred)\n",
    "#         #l = tf.keras.backend.binary_crossentropy(prob_pred, prob_true)\n",
    "#         return prob_pred\n",
    "\n",
    "#     # Return a function\n",
    "#     return new_loss\n",
    "with sess:\n",
    "    "
   ]
  },
  {
   "cell_type": "code",
   "execution_count": 9,
   "metadata": {},
   "outputs": [
    {
     "ename": "NameError",
     "evalue": "name 'target_model2' is not defined",
     "output_type": "error",
     "traceback": [
      "\u001b[0;31m---------------------------------------------------------------------------\u001b[0m",
      "\u001b[0;31mNameError\u001b[0m                                 Traceback (most recent call last)",
      "\u001b[0;32m<ipython-input-9-eb3a89865c2e>\u001b[0m in \u001b[0;36m<module>\u001b[0;34m()\u001b[0m\n\u001b[1;32m      1\u001b[0m \u001b[0;32mwith\u001b[0m \u001b[0msess\u001b[0m\u001b[0;34m:\u001b[0m\u001b[0;34m\u001b[0m\u001b[0;34m\u001b[0m\u001b[0m\n\u001b[1;32m      2\u001b[0m     \u001b[0mautoencoder\u001b[0m \u001b[0;34m=\u001b[0m \u001b[0mModel\u001b[0m\u001b[0;34m(\u001b[0m\u001b[0minput_img\u001b[0m\u001b[0;34m,\u001b[0m \u001b[0mdecoded\u001b[0m\u001b[0;34m)\u001b[0m\u001b[0;34m\u001b[0m\u001b[0;34m\u001b[0m\u001b[0m\n\u001b[0;32m----> 3\u001b[0;31m     \u001b[0mautoencoder\u001b[0m\u001b[0;34m.\u001b[0m\u001b[0mcompile\u001b[0m\u001b[0;34m(\u001b[0m\u001b[0moptimizer\u001b[0m\u001b[0;34m=\u001b[0m\u001b[0;34m'adam'\u001b[0m\u001b[0;34m,\u001b[0m \u001b[0mloss\u001b[0m\u001b[0;34m=\u001b[0m\u001b[0mcustom_loss\u001b[0m\u001b[0;34m(\u001b[0m\u001b[0;34m)\u001b[0m\u001b[0;34m,\u001b[0m \u001b[0mrun_eagerly\u001b[0m\u001b[0;34m=\u001b[0m\u001b[0;32mTrue\u001b[0m\u001b[0;34m)\u001b[0m\u001b[0;34m\u001b[0m\u001b[0;34m\u001b[0m\u001b[0m\n\u001b[0m\u001b[1;32m      4\u001b[0m \u001b[0;34m\u001b[0m\u001b[0m\n\u001b[1;32m      5\u001b[0m     autoencoder.fit(x_train, x_train,\n",
      "\u001b[0;32m/home/chhabra4/anaconda3/envs/attack/lib/python3.6/site-packages/keras/engine/training.py\u001b[0m in \u001b[0;36mcompile\u001b[0;34m(self, optimizer, loss, metrics, loss_weights, sample_weight_mode, weighted_metrics, target_tensors, **kwargs)\u001b[0m\n\u001b[1;32m    340\u001b[0m                 \u001b[0;32mwith\u001b[0m \u001b[0mK\u001b[0m\u001b[0;34m.\u001b[0m\u001b[0mname_scope\u001b[0m\u001b[0;34m(\u001b[0m\u001b[0mself\u001b[0m\u001b[0;34m.\u001b[0m\u001b[0moutput_names\u001b[0m\u001b[0;34m[\u001b[0m\u001b[0mi\u001b[0m\u001b[0;34m]\u001b[0m \u001b[0;34m+\u001b[0m \u001b[0;34m'_loss'\u001b[0m\u001b[0;34m)\u001b[0m\u001b[0;34m:\u001b[0m\u001b[0;34m\u001b[0m\u001b[0;34m\u001b[0m\u001b[0m\n\u001b[1;32m    341\u001b[0m                     output_loss = weighted_loss(y_true, y_pred,\n\u001b[0;32m--> 342\u001b[0;31m                                                 sample_weight, mask)\n\u001b[0m\u001b[1;32m    343\u001b[0m                 \u001b[0;32mif\u001b[0m \u001b[0mlen\u001b[0m\u001b[0;34m(\u001b[0m\u001b[0mself\u001b[0m\u001b[0;34m.\u001b[0m\u001b[0moutputs\u001b[0m\u001b[0;34m)\u001b[0m \u001b[0;34m>\u001b[0m \u001b[0;36m1\u001b[0m\u001b[0;34m:\u001b[0m\u001b[0;34m\u001b[0m\u001b[0;34m\u001b[0m\u001b[0m\n\u001b[1;32m    344\u001b[0m                     \u001b[0mself\u001b[0m\u001b[0;34m.\u001b[0m\u001b[0mmetrics_tensors\u001b[0m\u001b[0;34m.\u001b[0m\u001b[0mappend\u001b[0m\u001b[0;34m(\u001b[0m\u001b[0moutput_loss\u001b[0m\u001b[0;34m)\u001b[0m\u001b[0;34m\u001b[0m\u001b[0;34m\u001b[0m\u001b[0m\n",
      "\u001b[0;32m/home/chhabra4/anaconda3/envs/attack/lib/python3.6/site-packages/keras/engine/training_utils.py\u001b[0m in \u001b[0;36mweighted\u001b[0;34m(y_true, y_pred, weights, mask)\u001b[0m\n\u001b[1;32m    402\u001b[0m         \"\"\"\n\u001b[1;32m    403\u001b[0m         \u001b[0;31m# score_array has ndim >= 2\u001b[0m\u001b[0;34m\u001b[0m\u001b[0;34m\u001b[0m\u001b[0;34m\u001b[0m\u001b[0m\n\u001b[0;32m--> 404\u001b[0;31m         \u001b[0mscore_array\u001b[0m \u001b[0;34m=\u001b[0m \u001b[0mfn\u001b[0m\u001b[0;34m(\u001b[0m\u001b[0my_true\u001b[0m\u001b[0;34m,\u001b[0m \u001b[0my_pred\u001b[0m\u001b[0;34m)\u001b[0m\u001b[0;34m\u001b[0m\u001b[0;34m\u001b[0m\u001b[0m\n\u001b[0m\u001b[1;32m    405\u001b[0m         \u001b[0;32mif\u001b[0m \u001b[0mmask\u001b[0m \u001b[0;32mis\u001b[0m \u001b[0;32mnot\u001b[0m \u001b[0;32mNone\u001b[0m\u001b[0;34m:\u001b[0m\u001b[0;34m\u001b[0m\u001b[0;34m\u001b[0m\u001b[0m\n\u001b[1;32m    406\u001b[0m             \u001b[0;31m# Cast the mask to floatX to avoid float64 upcasting in Theano\u001b[0m\u001b[0;34m\u001b[0m\u001b[0;34m\u001b[0m\u001b[0;34m\u001b[0m\u001b[0m\n",
      "\u001b[0;32m<ipython-input-8-231218648e4c>\u001b[0m in \u001b[0;36mloss\u001b[0;34m(y_true, y_pred)\u001b[0m\n\u001b[1;32m     39\u001b[0m         \u001b[0;31m# Create a loss function that adds the MSE loss to the mean of all squared activations of a specific layer\u001b[0m\u001b[0;34m\u001b[0m\u001b[0;34m\u001b[0m\u001b[0;34m\u001b[0m\u001b[0m\n\u001b[1;32m     40\u001b[0m         \u001b[0;32mdef\u001b[0m \u001b[0mloss\u001b[0m\u001b[0;34m(\u001b[0m\u001b[0my_true\u001b[0m\u001b[0;34m,\u001b[0m\u001b[0my_pred\u001b[0m\u001b[0;34m)\u001b[0m\u001b[0;34m:\u001b[0m\u001b[0;34m\u001b[0m\u001b[0;34m\u001b[0m\u001b[0m\n\u001b[0;32m---> 41\u001b[0;31m             \u001b[0mprob_pred\u001b[0m \u001b[0;34m=\u001b[0m \u001b[0mtf\u001b[0m\u001b[0;34m.\u001b[0m\u001b[0mpy_function\u001b[0m\u001b[0;34m(\u001b[0m\u001b[0mtarget_model2\u001b[0m\u001b[0;34m.\u001b[0m\u001b[0mpredict_prob_temp\u001b[0m\u001b[0;34m,\u001b[0m \u001b[0minp\u001b[0m\u001b[0;34m=\u001b[0m\u001b[0;34m[\u001b[0m\u001b[0my_pred\u001b[0m\u001b[0;34m]\u001b[0m\u001b[0;34m,\u001b[0m \u001b[0mTout\u001b[0m\u001b[0;34m=\u001b[0m\u001b[0mtf\u001b[0m\u001b[0;34m.\u001b[0m\u001b[0mfloat32\u001b[0m\u001b[0;34m)\u001b[0m\u001b[0;34m\u001b[0m\u001b[0;34m\u001b[0m\u001b[0m\n\u001b[0m\u001b[1;32m     42\u001b[0m             \u001b[0mprob_true\u001b[0m \u001b[0;34m=\u001b[0m \u001b[0mtf\u001b[0m\u001b[0;34m.\u001b[0m\u001b[0mpy_function\u001b[0m\u001b[0;34m(\u001b[0m\u001b[0mtarget_model2\u001b[0m\u001b[0;34m.\u001b[0m\u001b[0mpredict_prob_temp\u001b[0m\u001b[0;34m,\u001b[0m \u001b[0minp\u001b[0m\u001b[0;34m=\u001b[0m\u001b[0;34m[\u001b[0m\u001b[0my_true\u001b[0m\u001b[0;34m]\u001b[0m\u001b[0;34m,\u001b[0m \u001b[0mTout\u001b[0m\u001b[0;34m=\u001b[0m\u001b[0mtf\u001b[0m\u001b[0;34m.\u001b[0m\u001b[0mfloat32\u001b[0m\u001b[0;34m)\u001b[0m\u001b[0;34m\u001b[0m\u001b[0;34m\u001b[0m\u001b[0m\n\u001b[1;32m     43\u001b[0m             \u001b[0mtf\u001b[0m\u001b[0;34m.\u001b[0m\u001b[0mprint\u001b[0m\u001b[0;34m(\u001b[0m\u001b[0my_true\u001b[0m\u001b[0;34m,\u001b[0m \u001b[0moutput_stream\u001b[0m\u001b[0;34m=\u001b[0m\u001b[0msys\u001b[0m\u001b[0;34m.\u001b[0m\u001b[0mstderr\u001b[0m\u001b[0;34m)\u001b[0m\u001b[0;34m\u001b[0m\u001b[0;34m\u001b[0m\u001b[0m\n",
      "\u001b[0;31mNameError\u001b[0m: name 'target_model2' is not defined"
     ]
    }
   ],
   "source": [
    "with sess:\n",
    "    "
   ]
  },
  {
   "cell_type": "code",
   "execution_count": 66,
   "metadata": {
    "collapsed": true,
    "jupyter": {
     "outputs_hidden": true
    }
   },
   "outputs": [
    {
     "data": {
      "text/plain": [
       "array([[[[8.28415155e-04, 5.85049391e-04, 7.82579184e-04],\n",
       "         [7.08103180e-05, 9.13739204e-05, 1.02788210e-04],\n",
       "         [3.01927328e-04, 3.91691923e-04, 4.71383333e-04],\n",
       "         ...,\n",
       "         [1.73032284e-04, 1.57535076e-04, 2.96503305e-04],\n",
       "         [2.54511833e-05, 2.19345093e-05, 4.30047512e-05],\n",
       "         [9.62764025e-04, 5.81532717e-04, 2.73913145e-04]],\n",
       "\n",
       "        [[7.21514225e-05, 5.33163548e-05, 5.33461571e-05],\n",
       "         [2.62260437e-06, 4.67896461e-06, 2.20537186e-06],\n",
       "         [2.57790089e-05, 3.65376472e-05, 2.87592411e-05],\n",
       "         ...,\n",
       "         [8.34465027e-06, 1.52885914e-05, 1.84178352e-05],\n",
       "         [6.85453415e-07, 6.25848770e-07, 2.92062759e-06],\n",
       "         [6.52968884e-05, 6.28530979e-05, 5.48362732e-05]],\n",
       "\n",
       "        [[2.29597092e-04, 1.52468681e-04, 1.74045563e-04],\n",
       "         [9.29832458e-06, 1.72555447e-05, 1.15036964e-05],\n",
       "         [1.25914812e-04, 1.95890665e-04, 1.72942877e-04],\n",
       "         ...,\n",
       "         [4.72664833e-05, 8.79168510e-05, 1.10566616e-04],\n",
       "         [2.59280205e-06, 2.98023224e-06, 1.32322311e-05],\n",
       "         [1.56342983e-04, 1.56134367e-04, 1.33752823e-04]],\n",
       "\n",
       "        ...,\n",
       "\n",
       "        [[2.47269869e-04, 2.64316797e-04, 2.62618065e-04],\n",
       "         [1.70767307e-05, 2.47657299e-05, 7.18235970e-06],\n",
       "         [2.01404095e-04, 2.32666731e-04, 8.96453857e-05],\n",
       "         ...,\n",
       "         [7.35819340e-05, 5.41210175e-05, 7.00056553e-05],\n",
       "         [4.79817390e-06, 1.93715096e-06, 1.20103359e-05],\n",
       "         [1.42574310e-04, 2.02953815e-04, 1.73687935e-04]],\n",
       "\n",
       "        [[7.08699226e-05, 6.12735748e-05, 6.17504120e-05],\n",
       "         [6.13927841e-06, 6.16908073e-06, 1.28149986e-06],\n",
       "         [4.32431698e-05, 3.00109386e-05, 1.02818012e-05],\n",
       "         ...,\n",
       "         [1.60336494e-05, 6.73532486e-06, 7.62939453e-06],\n",
       "         [1.40070915e-06, 4.76837158e-07, 2.02655792e-06],\n",
       "         [5.76078892e-05, 6.73532486e-05, 4.76837158e-05]],\n",
       "\n",
       "        [[5.95152378e-04, 4.38928604e-04, 1.06647611e-03],\n",
       "         [1.41322613e-04, 1.29252672e-04, 7.94231892e-05],\n",
       "         [3.80516052e-04, 4.19795513e-04, 2.36064196e-04],\n",
       "         ...,\n",
       "         [1.75714493e-04, 1.11311674e-04, 1.23441219e-04],\n",
       "         [3.12030315e-05, 1.60634518e-05, 4.55379486e-05],\n",
       "         [1.06602907e-03, 5.43415546e-04, 7.29501247e-04]]]],\n",
       "      dtype=float32)"
      ]
     },
     "execution_count": 66,
     "metadata": {},
     "output_type": "execute_result"
    }
   ],
   "source": [
    "autoencoder.predict(test1)"
   ]
  },
  {
   "cell_type": "code",
   "execution_count": 8,
   "metadata": {},
   "outputs": [
    {
     "name": "stdout",
     "output_type": "stream",
     "text": [
      "Saved model to disk..\n"
     ]
    }
   ],
   "source": [
    "#saving model to disk\n",
    "\n",
    "model_json = autoencoder.to_json()\n",
    "\n",
    "with open('model_json', 'w') as json_file:\n",
    "    json_file.write(model_json)\n",
    "autoencoder.save_weights(\"model.h5\")\n",
    "print(\"Saved model to disk..\")"
   ]
  },
  {
   "cell_type": "code",
   "execution_count": 9,
   "metadata": {},
   "outputs": [
    {
     "name": "stdout",
     "output_type": "stream",
     "text": [
      "Loaded model from disk\n"
     ]
    }
   ],
   "source": [
    "from keras.models import model_from_json\n",
    "\n",
    "json_file = open('model_json', 'r')\n",
    "loaded_model_json = json_file.read()\n",
    "json_file.close()\n",
    "loaded_model = model_from_json(loaded_model_json)\n",
    "loaded_model.load_weights('model.h5')\n",
    "print(\"Loaded model from disk\")\n",
    "decoded_imgs = loaded_model.predict(x_test)"
   ]
  },
  {
   "cell_type": "code",
   "execution_count": 10,
   "metadata": {
    "collapsed": true,
    "jupyter": {
     "outputs_hidden": true
    }
   },
   "outputs": [
    {
     "data": {
      "text/plain": [
       "array([[[[0.5606551 , 0.41851765, 0.26643756],\n",
       "         [0.5553823 , 0.3921249 , 0.1897471 ],\n",
       "         [0.57869446, 0.4004086 , 0.16838911],\n",
       "         ...,\n",
       "         [0.54473156, 0.3686673 , 0.16728789],\n",
       "         [0.5182382 , 0.36348453, 0.18990412],\n",
       "         [0.48735905, 0.36764622, 0.22715506]],\n",
       "\n",
       "        [[0.5859335 , 0.41925034, 0.20204344],\n",
       "         [0.64489084, 0.4066676 , 0.1684066 ],\n",
       "         [0.6641571 , 0.3753437 , 0.14647841],\n",
       "         ...,\n",
       "         [0.55392027, 0.34037027, 0.12820539],\n",
       "         [0.5073441 , 0.31321257, 0.13412961],\n",
       "         [0.43452564, 0.33152694, 0.14712992]],\n",
       "\n",
       "        [[0.60723215, 0.44080508, 0.20194885],\n",
       "         [0.6468946 , 0.42470485, 0.18461359],\n",
       "         [0.6869696 , 0.4121383 , 0.16171655],\n",
       "         ...,\n",
       "         [0.57471544, 0.3608549 , 0.1264345 ],\n",
       "         [0.53029275, 0.32758927, 0.1257608 ],\n",
       "         [0.46045834, 0.3350364 , 0.12951574]],\n",
       "\n",
       "        ...,\n",
       "\n",
       "        [[0.22204441, 0.47154915, 0.6555877 ],\n",
       "         [0.17023823, 0.4337982 , 0.62736523],\n",
       "         [0.12988383, 0.3980145 , 0.6212648 ],\n",
       "         ...,\n",
       "         [0.12126631, 0.3520025 , 0.6004269 ],\n",
       "         [0.10299289, 0.276838  , 0.4692715 ],\n",
       "         [0.14951587, 0.30676132, 0.4634153 ]],\n",
       "\n",
       "        [[0.2494967 , 0.47152415, 0.620376  ],\n",
       "         [0.19183666, 0.42166775, 0.5761695 ],\n",
       "         [0.15213284, 0.376128  , 0.5488667 ],\n",
       "         ...,\n",
       "         [0.12447703, 0.31737185, 0.5391943 ],\n",
       "         [0.10348502, 0.26740715, 0.41437262],\n",
       "         [0.15358865, 0.2905208 , 0.44419622]],\n",
       "\n",
       "        [[0.32740897, 0.49449813, 0.59401596],\n",
       "         [0.26835787, 0.45690122, 0.60065264],\n",
       "         [0.21793783, 0.42987254, 0.56088924],\n",
       "         ...,\n",
       "         [0.18358049, 0.36006975, 0.51843786],\n",
       "         [0.18316007, 0.3251481 , 0.44664273],\n",
       "         [0.19309044, 0.32682836, 0.43605238]]],\n",
       "\n",
       "\n",
       "       [[[0.9290581 , 0.9333049 , 0.93308   ],\n",
       "         [0.9418697 , 0.9538089 , 0.9603729 ],\n",
       "         [0.92980057, 0.93749714, 0.9473307 ],\n",
       "         ...,\n",
       "         [0.9474042 , 0.95497966, 0.9629353 ],\n",
       "         [0.9380884 , 0.9521749 , 0.9605383 ],\n",
       "         [0.92510045, 0.93130034, 0.93163013]],\n",
       "\n",
       "        [[0.9403051 , 0.95250535, 0.9546257 ],\n",
       "         [0.9555224 , 0.9606405 , 0.9685814 ],\n",
       "         [0.9389677 , 0.95161223, 0.9634726 ],\n",
       "         ...,\n",
       "         [0.9604789 , 0.97010255, 0.9760083 ],\n",
       "         [0.9627043 , 0.96778166, 0.9760419 ],\n",
       "         [0.94828796, 0.9565625 , 0.959934  ]],\n",
       "\n",
       "        [[0.9455152 , 0.9474825 , 0.9527949 ],\n",
       "         [0.9401822 , 0.9522432 , 0.96600163],\n",
       "         [0.9302219 , 0.95048004, 0.9577403 ],\n",
       "         ...,\n",
       "         [0.95818734, 0.9623437 , 0.9717654 ],\n",
       "         [0.9581722 , 0.96316695, 0.971462  ],\n",
       "         [0.9532443 , 0.95704937, 0.95966697]],\n",
       "\n",
       "        ...,\n",
       "\n",
       "        [[0.44527656, 0.463345  , 0.37527412],\n",
       "         [0.19214264, 0.20359096, 0.16104966],\n",
       "         [0.07174456, 0.07151541, 0.05595392],\n",
       "         ...,\n",
       "         [0.63211864, 0.7100364 , 0.69912124],\n",
       "         [0.6911621 , 0.7510556 , 0.7508375 ],\n",
       "         [0.7659919 , 0.7973421 , 0.7952901 ]],\n",
       "\n",
       "        [[0.43694085, 0.45074147, 0.36519766],\n",
       "         [0.19012567, 0.21866778, 0.15266329],\n",
       "         [0.11112365, 0.112075  , 0.08681619],\n",
       "         ...,\n",
       "         [0.6806263 , 0.7192303 , 0.7215167 ],\n",
       "         [0.7160642 , 0.7656212 , 0.7558774 ],\n",
       "         [0.75033545, 0.7832472 , 0.78646266]],\n",
       "\n",
       "        [[0.42470992, 0.45171893, 0.34243768],\n",
       "         [0.27272087, 0.3055846 , 0.21874264],\n",
       "         [0.20172071, 0.22036332, 0.16378847],\n",
       "         ...,\n",
       "         [0.68113154, 0.719966  , 0.72912085],\n",
       "         [0.7172008 , 0.74098414, 0.75461036],\n",
       "         [0.6959978 , 0.7475046 , 0.743894  ]]],\n",
       "\n",
       "\n",
       "       [[[0.643114  , 0.7365345 , 0.81987554],\n",
       "         [0.5950874 , 0.7414364 , 0.83636326],\n",
       "         [0.62964374, 0.7214372 , 0.79003024],\n",
       "         ...,\n",
       "         [0.9568611 , 0.9655423 , 0.9743469 ],\n",
       "         [0.9579999 , 0.9711755 , 0.9757855 ],\n",
       "         [0.9498099 , 0.96007496, 0.95515275]],\n",
       "\n",
       "        [[0.6962977 , 0.79691315, 0.88989246],\n",
       "         [0.64828646, 0.7697526 , 0.86999416],\n",
       "         [0.5858358 , 0.7200008 , 0.80242354],\n",
       "         ...,\n",
       "         [0.97196734, 0.98175585, 0.9868057 ],\n",
       "         [0.980093  , 0.98558223, 0.9880021 ],\n",
       "         [0.97357327, 0.9792    , 0.9797219 ]],\n",
       "\n",
       "        [[0.7560284 , 0.83269024, 0.9081675 ],\n",
       "         [0.68693733, 0.79550314, 0.8883279 ],\n",
       "         [0.6015059 , 0.7560604 , 0.81187564],\n",
       "         ...,\n",
       "         [0.9686382 , 0.9759444 , 0.98264134],\n",
       "         [0.9767543 , 0.98173654, 0.98501724],\n",
       "         [0.9752584 , 0.9788026 , 0.9792671 ]],\n",
       "\n",
       "        ...,\n",
       "\n",
       "        [[0.11432743, 0.13432121, 0.16526282],\n",
       "         [0.08196008, 0.10905418, 0.13465261],\n",
       "         [0.08255023, 0.11948693, 0.15512916],\n",
       "         ...,\n",
       "         [0.09274274, 0.13710696, 0.134213  ],\n",
       "         [0.04368493, 0.06829435, 0.0630005 ],\n",
       "         [0.0341315 , 0.054874  , 0.0497942 ]],\n",
       "\n",
       "        [[0.13682938, 0.16024387, 0.17711341],\n",
       "         [0.09768516, 0.11827695, 0.13381454],\n",
       "         [0.09886214, 0.12973005, 0.1521509 ],\n",
       "         ...,\n",
       "         [0.08193409, 0.13026914, 0.12241924],\n",
       "         [0.03396156, 0.05123872, 0.04646182],\n",
       "         [0.02902925, 0.04005134, 0.03685445]],\n",
       "\n",
       "        [[0.1941084 , 0.21712026, 0.19851431],\n",
       "         [0.13965118, 0.16094106, 0.17051327],\n",
       "         [0.12774986, 0.15717533, 0.15625441],\n",
       "         ...,\n",
       "         [0.06303462, 0.09714416, 0.07568285],\n",
       "         [0.03085282, 0.04410067, 0.03637797],\n",
       "         [0.03472909, 0.04482558, 0.04025492]]],\n",
       "\n",
       "\n",
       "       ...,\n",
       "\n",
       "\n",
       "       [[[0.1219486 , 0.10895622, 0.09751385],\n",
       "         [0.07805908, 0.07503963, 0.05389601],\n",
       "         [0.07828614, 0.0710907 , 0.0490621 ],\n",
       "         ...,\n",
       "         [0.03421867, 0.02909109, 0.02574289],\n",
       "         [0.04114833, 0.03335398, 0.03196779],\n",
       "         [0.07333741, 0.06170225, 0.05405661]],\n",
       "\n",
       "        [[0.09236506, 0.08213073, 0.06336981],\n",
       "         [0.0549019 , 0.0509167 , 0.04126504],\n",
       "         [0.05840376, 0.04800776, 0.03719112],\n",
       "         ...,\n",
       "         [0.02868551, 0.02633947, 0.01999193],\n",
       "         [0.03154418, 0.02920762, 0.02523288],\n",
       "         [0.04656178, 0.04345337, 0.03915784]],\n",
       "\n",
       "        [[0.08205828, 0.06858742, 0.05700621],\n",
       "         [0.05503297, 0.0491069 , 0.0404762 ],\n",
       "         [0.06832853, 0.05494085, 0.03744236],\n",
       "         ...,\n",
       "         [0.04671302, 0.03754136, 0.02436042],\n",
       "         [0.04012689, 0.03588116, 0.02827606],\n",
       "         [0.05007693, 0.04673752, 0.03452185]],\n",
       "\n",
       "        ...,\n",
       "\n",
       "        [[0.11884028, 0.08201307, 0.06389591],\n",
       "         [0.11767146, 0.07616687, 0.04878539],\n",
       "         [0.12136775, 0.07722962, 0.05077377],\n",
       "         ...,\n",
       "         [0.08073008, 0.08315906, 0.19023123],\n",
       "         [0.07864553, 0.08944231, 0.17972639],\n",
       "         [0.09461007, 0.10306332, 0.18008795]],\n",
       "\n",
       "        [[0.1478087 , 0.10745475, 0.07859376],\n",
       "         [0.11906874, 0.07652941, 0.05567369],\n",
       "         [0.12134463, 0.07091805, 0.05333745],\n",
       "         ...,\n",
       "         [0.08265704, 0.08769158, 0.18678284],\n",
       "         [0.08416146, 0.09092414, 0.17290911],\n",
       "         [0.1066491 , 0.11563876, 0.18733984]],\n",
       "\n",
       "        [[0.1858654 , 0.15151355, 0.09914806],\n",
       "         [0.14265671, 0.11295426, 0.08413851],\n",
       "         [0.13811007, 0.1055671 , 0.06608936],\n",
       "         ...,\n",
       "         [0.09996676, 0.10121277, 0.15546036],\n",
       "         [0.10189763, 0.10965589, 0.16050845],\n",
       "         [0.13577995, 0.15439808, 0.19849768]]],\n",
       "\n",
       "\n",
       "       [[[0.11268845, 0.11121303, 0.08982468],\n",
       "         [0.07761747, 0.08109292, 0.04747674],\n",
       "         [0.09072721, 0.10659081, 0.05341926],\n",
       "         ...,\n",
       "         [0.42960924, 0.49643734, 0.49257624],\n",
       "         [0.4112535 , 0.46210146, 0.44894207],\n",
       "         [0.39226496, 0.4066051 , 0.41916645]],\n",
       "\n",
       "        [[0.0900754 , 0.09927428, 0.05863914],\n",
       "         [0.05719122, 0.06529233, 0.03865004],\n",
       "         [0.11519891, 0.10346434, 0.05340531],\n",
       "         ...,\n",
       "         [0.5366277 , 0.6154386 , 0.5966027 ],\n",
       "         [0.46895403, 0.54296553, 0.5444021 ],\n",
       "         [0.4001518 , 0.47254667, 0.48531064]],\n",
       "\n",
       "        [[0.09230816, 0.10790753, 0.06810158],\n",
       "         [0.0744094 , 0.09255901, 0.05521217],\n",
       "         [0.16973597, 0.15930769, 0.08027738],\n",
       "         ...,\n",
       "         [0.6312788 , 0.67820734, 0.6720798 ],\n",
       "         [0.54962516, 0.65020615, 0.6513536 ],\n",
       "         [0.4811939 , 0.5857257 , 0.5742141 ]],\n",
       "\n",
       "        ...,\n",
       "\n",
       "        [[0.4061553 , 0.5022915 , 0.33017385],\n",
       "         [0.38910058, 0.49213818, 0.29062513],\n",
       "         [0.4017726 , 0.51658696, 0.30367118],\n",
       "         ...,\n",
       "         [0.3742916 , 0.513388  , 0.29972443],\n",
       "         [0.3527804 , 0.48395824, 0.29887444],\n",
       "         [0.3663315 , 0.4734871 , 0.30454206]],\n",
       "\n",
       "        [[0.45102537, 0.51924413, 0.34632164],\n",
       "         [0.418493  , 0.49960896, 0.3110295 ],\n",
       "         [0.4333382 , 0.5041947 , 0.30812305],\n",
       "         ...,\n",
       "         [0.38503146, 0.5010916 , 0.31851873],\n",
       "         [0.378649  , 0.46533355, 0.30637544],\n",
       "         [0.37400013, 0.44333678, 0.30080336]],\n",
       "\n",
       "        [[0.47494245, 0.49582544, 0.34172028],\n",
       "         [0.4294855 , 0.49779367, 0.3353964 ],\n",
       "         [0.41854843, 0.49967197, 0.30263233],\n",
       "         ...,\n",
       "         [0.39579815, 0.48247078, 0.32336485],\n",
       "         [0.3954717 , 0.4633494 , 0.31479588],\n",
       "         [0.36578193, 0.43015158, 0.31186664]]],\n",
       "\n",
       "\n",
       "       [[[0.36137462, 0.37544698, 0.38883266],\n",
       "         [0.38222516, 0.41893178, 0.39422715],\n",
       "         [0.33868742, 0.37855858, 0.3775173 ],\n",
       "         ...,\n",
       "         [0.59662044, 0.65015113, 0.60285014],\n",
       "         [0.55507314, 0.5846054 , 0.5507314 ],\n",
       "         [0.61680055, 0.6228894 , 0.57932395]],\n",
       "\n",
       "        [[0.3324409 , 0.35740373, 0.3449046 ],\n",
       "         [0.34293938, 0.38152647, 0.3870518 ],\n",
       "         [0.26182622, 0.29994506, 0.32659146],\n",
       "         ...,\n",
       "         [0.32489106, 0.36858225, 0.3325711 ],\n",
       "         [0.28757307, 0.32300317, 0.22032183],\n",
       "         [0.4248482 , 0.43381578, 0.3866827 ]],\n",
       "\n",
       "        [[0.3014813 , 0.31358486, 0.3152971 ],\n",
       "         [0.29565787, 0.32371736, 0.34769374],\n",
       "         [0.24195167, 0.27804434, 0.2938969 ],\n",
       "         ...,\n",
       "         [0.2343942 , 0.2867753 , 0.22344133],\n",
       "         [0.21546012, 0.29098085, 0.19546276],\n",
       "         [0.35498506, 0.37963563, 0.3206026 ]],\n",
       "\n",
       "        ...,\n",
       "\n",
       "        [[0.47500846, 0.49111187, 0.37463284],\n",
       "         [0.48703733, 0.4927508 , 0.35518175],\n",
       "         [0.49310964, 0.49329072, 0.37154672],\n",
       "         ...,\n",
       "         [0.423643  , 0.38915265, 0.33175534],\n",
       "         [0.24388891, 0.22926137, 0.19303125],\n",
       "         [0.14740586, 0.15127262, 0.11973959]],\n",
       "\n",
       "        [[0.49323404, 0.49224418, 0.3741671 ],\n",
       "         [0.49297184, 0.48789257, 0.35761532],\n",
       "         [0.4936481 , 0.4709416 , 0.35561556],\n",
       "         ...,\n",
       "         [0.40446198, 0.39236838, 0.35469684],\n",
       "         [0.2623243 , 0.24052069, 0.22028553],\n",
       "         [0.16481546, 0.16329566, 0.13753724]],\n",
       "\n",
       "        [[0.5056941 , 0.4848382 , 0.3697036 ],\n",
       "         [0.47359914, 0.48328415, 0.3848476 ],\n",
       "         [0.4794737 , 0.48526913, 0.35570693],\n",
       "         ...,\n",
       "         [0.36408842, 0.3663469 , 0.31037438],\n",
       "         [0.25100225, 0.25107926, 0.20657906],\n",
       "         [0.19940504, 0.20167753, 0.1617735 ]]]], dtype=float32)"
      ]
     },
     "execution_count": 10,
     "metadata": {},
     "output_type": "execute_result"
    }
   ],
   "source": [
    "decoded_imgs"
   ]
  },
  {
   "cell_type": "code",
   "execution_count": 11,
   "metadata": {
    "collapsed": true,
    "jupyter": {
     "outputs_hidden": true
    }
   },
   "outputs": [
    {
     "name": "stdout",
     "output_type": "stream",
     "text": [
      "Package              Version\n",
      "-------------------- -------------------\n",
      "absl-py              0.10.0\n",
      "argon2-cffi          20.1.0\n",
      "astor                0.8.1\n",
      "async-generator      1.10\n",
      "attrs                20.2.0\n",
      "backcall             0.2.0\n",
      "bleach               3.2.1\n",
      "certifi              2020.6.20\n",
      "cffi                 1.14.3\n",
      "colorama             0.4.3\n",
      "decorator            4.4.2\n",
      "defusedxml           0.6.0\n",
      "entrypoints          0.3\n",
      "gast                 0.4.0\n",
      "grpcio               1.12.1\n",
      "h5py                 2.7.1\n",
      "importlib-metadata   2.0.0\n",
      "ipykernel            5.3.4\n",
      "ipython              7.16.1\n",
      "ipython-genutils     0.2.0\n",
      "ipywidgets           7.5.1\n",
      "jedi                 0.17.2\n",
      "Jinja2               2.11.2\n",
      "jsonschema           3.2.0\n",
      "jupyter              1.0.0\n",
      "jupyter-client       6.1.7\n",
      "jupyter-console      6.2.0\n",
      "jupyter-core         4.6.3\n",
      "jupyterlab-pygments  0.1.2\n",
      "Keras                2.3.1\n",
      "Keras-Applications   1.0.8\n",
      "Keras-Preprocessing  1.1.0\n",
      "Markdown             3.3\n",
      "MarkupSafe           1.1.1\n",
      "mistune              0.8.4\n",
      "mkl-fft              1.2.0\n",
      "mkl-random           1.1.0\n",
      "mkl-service          2.3.0\n",
      "nbclient             0.5.0\n",
      "nbconvert            6.0.7\n",
      "nbformat             5.0.7\n",
      "nest-asyncio         1.4.1\n",
      "notebook             6.1.4\n",
      "numpy                1.18.4\n",
      "packaging            20.4\n",
      "pandocfilters        1.4.2\n",
      "parso                0.7.1\n",
      "pickleshare          0.7.5\n",
      "pip                  20.2.3\n",
      "prometheus-client    0.8.0\n",
      "prompt-toolkit       3.0.7\n",
      "protobuf             3.13.0\n",
      "pycparser            2.20\n",
      "Pygments             2.7.1\n",
      "pyparsing            2.4.7\n",
      "pyrsistent           0.17.3\n",
      "python-dateutil      2.8.1\n",
      "pywin32              228\n",
      "pywinpty             0.5.7\n",
      "PyYAML               5.3.1\n",
      "pyzmq                19.0.2\n",
      "qtconsole            4.7.7\n",
      "QtPy                 1.9.0\n",
      "scipy                1.5.2\n",
      "Send2Trash           1.5.0\n",
      "setuptools           50.3.0.post20201006\n",
      "six                  1.15.0\n",
      "tensorboard          1.14.0\n",
      "tensorflow           1.14.0\n",
      "tensorflow-estimator 1.14.0\n",
      "termcolor            1.1.0\n",
      "terminado            0.9.1\n",
      "testpath             0.4.4\n",
      "tornado              6.0.4\n",
      "traitlets            4.3.3\n",
      "wcwidth              0.2.5\n",
      "webencodings         0.5.1\n",
      "Werkzeug             1.0.1\n",
      "wheel                0.35.1\n",
      "widgetsnbextension   3.5.1\n",
      "wincertstore         0.2\n",
      "wrapt                1.12.1\n",
      "zipp                 3.3.0\n"
     ]
    }
   ],
   "source": [
    "!pip list\n"
   ]
  },
  {
   "cell_type": "code",
   "execution_count": 11,
   "metadata": {},
   "outputs": [],
   "source": [
    "def new_loss(y_true,y_pred):\n",
    "        return binary_crossentropy(classifer(y_pred),classifer(y_true))- constant * min(np.linalg.norm(y_true,y_pred)**2,d)"
   ]
  },
  {
   "cell_type": "code",
   "execution_count": 3,
   "metadata": {},
   "outputs": [],
   "source": []
  },
  {
   "cell_type": "code",
   "execution_count": 2,
   "metadata": {},
   "outputs": [],
   "source": []
  },
  {
   "cell_type": "code",
   "execution_count": 2,
   "metadata": {},
   "outputs": [
    {
     "ename": "SyntaxError",
     "evalue": "invalid syntax (<ipython-input-2-279bb29dbe4f>, line 1)",
     "output_type": "error",
     "traceback": [
      "\u001b[0;36m  File \u001b[0;32m\"<ipython-input-2-279bb29dbe4f>\"\u001b[0;36m, line \u001b[0;32m1\u001b[0m\n\u001b[0;31m    from . import cifar10_robust_models.Load_MadryM\u001b[0m\n\u001b[0m                                       ^\u001b[0m\n\u001b[0;31mSyntaxError\u001b[0m\u001b[0;31m:\u001b[0m invalid syntax\n"
     ]
    }
   ],
   "source": [
    "from . import cifar10_robust_models.Load_MadryM"
   ]
  },
  {
   "cell_type": "code",
   "execution_count": 33,
   "metadata": {},
   "outputs": [
    {
     "name": "stdout",
     "output_type": "stream",
     "text": [
      "['', '/home/chhabra4/anaconda3/envs/attack/lib/python36.zip', '/home/chhabra4/anaconda3/envs/attack/lib/python3.6', '/home/chhabra4/anaconda3/envs/attack/lib/python3.6/lib-dynload', '/home/chhabra4/anaconda3/envs/attack/lib/python3.6/site-packages', '/home/chhabra4/anaconda3/envs/attack/lib/python3.6/site-packages/IPython/extensions', '/home/chhabra4/.ipython']\n"
     ]
    }
   ],
   "source": [
    "import sys\n",
    "print(sys.path)"
   ]
  },
  {
   "cell_type": "code",
   "execution_count": 4,
   "metadata": {},
   "outputs": [
    {
     "name": "stdout",
     "output_type": "stream",
     "text": [
      "\n",
      "WARNING: The TensorFlow contrib module will not be included in TensorFlow 2.0.\n",
      "For more information, please see:\n",
      "  * https://github.com/tensorflow/community/blob/master/rfcs/20180907-contrib-sunset.md\n",
      "  * https://github.com/tensorflow/addons\n",
      "If you depend on functionality not listed there, please file an issue.\n",
      "\n"
     ]
    }
   ],
   "source": []
  },
  {
   "cell_type": "code",
   "execution_count": 12,
   "metadata": {},
   "outputs": [
    {
     "ename": "ValueError",
     "evalue": "Variable input/init_conv/DW already exists, disallowed. Did you mean to set reuse=True or reuse=tf.AUTO_REUSE in VarScope? Originally defined at:\n\n  File \"/home/chhabra4/Hybrid-Attack/cifar10/robust_model_utils/madry_model.py\", line 165, in _conv\n    stddev=np.sqrt(2.0/n)))\n  File \"/home/chhabra4/Hybrid-Attack/cifar10/robust_model_utils/madry_model.py\", line 42, in _build_model\n    x = self._conv('init_conv', input_standardized, 3, 3, 16, self._stride_arr(1))\n  File \"/home/chhabra4/Hybrid-Attack/cifar10/robust_model_utils/madry_model.py\", line 19, in __init__\n    self._build_model()\n",
     "output_type": "error",
     "traceback": [
      "\u001b[0;31m---------------------------------------------------------------------------\u001b[0m",
      "\u001b[0;31mValueError\u001b[0m                                Traceback (most recent call last)",
      "\u001b[0;32m<ipython-input-12-1aab46af55e5>\u001b[0m in \u001b[0;36m<module>\u001b[0;34m()\u001b[0m\n\u001b[1;32m      1\u001b[0m \u001b[0;32mwith\u001b[0m \u001b[0msess\u001b[0m\u001b[0;34m:\u001b[0m\u001b[0;34m\u001b[0m\u001b[0;34m\u001b[0m\u001b[0m\n\u001b[1;32m      2\u001b[0m     \u001b[0mmodel_dir\u001b[0m \u001b[0;34m=\u001b[0m \u001b[0;34m\"CIFAR10_models/Robust_Deep_models/Madry_robust_target_model\"\u001b[0m\u001b[0;34m\u001b[0m\u001b[0;34m\u001b[0m\u001b[0m\n\u001b[0;32m----> 3\u001b[0;31m     \u001b[0mtarget_model2\u001b[0m \u001b[0;34m=\u001b[0m \u001b[0mLoad_Madry_Model\u001b[0m\u001b[0;34m(\u001b[0m\u001b[0msess\u001b[0m\u001b[0;34m,\u001b[0m \u001b[0mmodel_dir\u001b[0m\u001b[0;34m,\u001b[0m\u001b[0mbias\u001b[0m \u001b[0;34m=\u001b[0m \u001b[0;36m0.5\u001b[0m\u001b[0;34m,\u001b[0m \u001b[0mscale\u001b[0m \u001b[0;34m=\u001b[0m \u001b[0;36m255\u001b[0m\u001b[0;34m)\u001b[0m\u001b[0;34m\u001b[0m\u001b[0;34m\u001b[0m\u001b[0m\n\u001b[0m",
      "\u001b[0;32m/home/chhabra4/Hybrid-Attack/cifar10/cifar10_robust_models.py\u001b[0m in \u001b[0;36m__init__\u001b[0;34m(self, sess, model_dir, bias, scale, loss)\u001b[0m\n\u001b[1;32m    152\u001b[0m                 \u001b[0msuper\u001b[0m\u001b[0;34m(\u001b[0m\u001b[0;34m)\u001b[0m\u001b[0;34m.\u001b[0m\u001b[0m__init__\u001b[0m\u001b[0;34m(\u001b[0m\u001b[0msess\u001b[0m\u001b[0;34m)\u001b[0m\u001b[0;34m\u001b[0m\u001b[0;34m\u001b[0m\u001b[0m\n\u001b[1;32m    153\u001b[0m                 \u001b[0;31m#model load and restore weights\u001b[0m\u001b[0;34m\u001b[0m\u001b[0;34m\u001b[0m\u001b[0;34m\u001b[0m\u001b[0m\n\u001b[0;32m--> 154\u001b[0;31m                 \u001b[0mmodel\u001b[0m \u001b[0;34m=\u001b[0m \u001b[0mModel\u001b[0m\u001b[0;34m(\u001b[0m\u001b[0mmode\u001b[0m \u001b[0;34m=\u001b[0m \u001b[0;34m'eval'\u001b[0m\u001b[0;34m)\u001b[0m\u001b[0;34m\u001b[0m\u001b[0;34m\u001b[0m\u001b[0m\n\u001b[0m\u001b[1;32m    155\u001b[0m                 \u001b[0msaver\u001b[0m \u001b[0;34m=\u001b[0m \u001b[0mtf\u001b[0m\u001b[0;34m.\u001b[0m\u001b[0mtrain\u001b[0m\u001b[0;34m.\u001b[0m\u001b[0mSaver\u001b[0m\u001b[0;34m(\u001b[0m\u001b[0;34m)\u001b[0m\u001b[0;34m\u001b[0m\u001b[0;34m\u001b[0m\u001b[0m\n\u001b[1;32m    156\u001b[0m                 \u001b[0mcheckpoint\u001b[0m \u001b[0;34m=\u001b[0m \u001b[0mtf\u001b[0m\u001b[0;34m.\u001b[0m\u001b[0mtrain\u001b[0m\u001b[0;34m.\u001b[0m\u001b[0mlatest_checkpoint\u001b[0m\u001b[0;34m(\u001b[0m\u001b[0mmodel_dir\u001b[0m\u001b[0;34m)\u001b[0m\u001b[0;34m\u001b[0m\u001b[0;34m\u001b[0m\u001b[0m\n",
      "\u001b[0;32m/home/chhabra4/Hybrid-Attack/cifar10/robust_model_utils/madry_model.py\u001b[0m in \u001b[0;36m__init__\u001b[0;34m(self, mode)\u001b[0m\n\u001b[1;32m     17\u001b[0m     \"\"\"\n\u001b[1;32m     18\u001b[0m     \u001b[0mself\u001b[0m\u001b[0;34m.\u001b[0m\u001b[0mmode\u001b[0m \u001b[0;34m=\u001b[0m \u001b[0mmode\u001b[0m\u001b[0;34m\u001b[0m\u001b[0;34m\u001b[0m\u001b[0m\n\u001b[0;32m---> 19\u001b[0;31m     \u001b[0mself\u001b[0m\u001b[0;34m.\u001b[0m\u001b[0m_build_model\u001b[0m\u001b[0;34m(\u001b[0m\u001b[0;34m)\u001b[0m\u001b[0;34m\u001b[0m\u001b[0;34m\u001b[0m\u001b[0m\n\u001b[0m\u001b[1;32m     20\u001b[0m \u001b[0;34m\u001b[0m\u001b[0m\n\u001b[1;32m     21\u001b[0m   \u001b[0;32mdef\u001b[0m \u001b[0madd_internal_summaries\u001b[0m\u001b[0;34m(\u001b[0m\u001b[0mself\u001b[0m\u001b[0;34m)\u001b[0m\u001b[0;34m:\u001b[0m\u001b[0;34m\u001b[0m\u001b[0;34m\u001b[0m\u001b[0m\n",
      "\u001b[0;32m/home/chhabra4/Hybrid-Attack/cifar10/robust_model_utils/madry_model.py\u001b[0m in \u001b[0;36m_build_model\u001b[0;34m(self)\u001b[0m\n\u001b[1;32m     40\u001b[0m       input_standardized = tf.map_fn(lambda img: tf.image.per_image_standardization(img),\n\u001b[1;32m     41\u001b[0m                                self.x_input)\n\u001b[0;32m---> 42\u001b[0;31m       \u001b[0mx\u001b[0m \u001b[0;34m=\u001b[0m \u001b[0mself\u001b[0m\u001b[0;34m.\u001b[0m\u001b[0m_conv\u001b[0m\u001b[0;34m(\u001b[0m\u001b[0;34m'init_conv'\u001b[0m\u001b[0;34m,\u001b[0m \u001b[0minput_standardized\u001b[0m\u001b[0;34m,\u001b[0m \u001b[0;36m3\u001b[0m\u001b[0;34m,\u001b[0m \u001b[0;36m3\u001b[0m\u001b[0;34m,\u001b[0m \u001b[0;36m16\u001b[0m\u001b[0;34m,\u001b[0m \u001b[0mself\u001b[0m\u001b[0;34m.\u001b[0m\u001b[0m_stride_arr\u001b[0m\u001b[0;34m(\u001b[0m\u001b[0;36m1\u001b[0m\u001b[0;34m)\u001b[0m\u001b[0;34m)\u001b[0m\u001b[0;34m\u001b[0m\u001b[0;34m\u001b[0m\u001b[0m\n\u001b[0m\u001b[1;32m     43\u001b[0m \u001b[0;34m\u001b[0m\u001b[0m\n\u001b[1;32m     44\u001b[0m \u001b[0;34m\u001b[0m\u001b[0m\n",
      "\u001b[0;32m/home/chhabra4/Hybrid-Attack/cifar10/robust_model_utils/madry_model.py\u001b[0m in \u001b[0;36m_conv\u001b[0;34m(self, name, x, filter_size, in_filters, out_filters, strides)\u001b[0m\n\u001b[1;32m    163\u001b[0m           \u001b[0;34m'DW'\u001b[0m\u001b[0;34m,\u001b[0m \u001b[0;34m[\u001b[0m\u001b[0mfilter_size\u001b[0m\u001b[0;34m,\u001b[0m \u001b[0mfilter_size\u001b[0m\u001b[0;34m,\u001b[0m \u001b[0min_filters\u001b[0m\u001b[0;34m,\u001b[0m \u001b[0mout_filters\u001b[0m\u001b[0;34m]\u001b[0m\u001b[0;34m,\u001b[0m\u001b[0;34m\u001b[0m\u001b[0;34m\u001b[0m\u001b[0m\n\u001b[1;32m    164\u001b[0m           tf.float32, initializer=tf.random_normal_initializer(\n\u001b[0;32m--> 165\u001b[0;31m               stddev=np.sqrt(2.0/n)))\n\u001b[0m\u001b[1;32m    166\u001b[0m       \u001b[0;32mreturn\u001b[0m \u001b[0mtf\u001b[0m\u001b[0;34m.\u001b[0m\u001b[0mnn\u001b[0m\u001b[0;34m.\u001b[0m\u001b[0mconv2d\u001b[0m\u001b[0;34m(\u001b[0m\u001b[0mx\u001b[0m\u001b[0;34m,\u001b[0m \u001b[0mkernel\u001b[0m\u001b[0;34m,\u001b[0m \u001b[0mstrides\u001b[0m\u001b[0;34m,\u001b[0m \u001b[0mpadding\u001b[0m\u001b[0;34m=\u001b[0m\u001b[0;34m'SAME'\u001b[0m\u001b[0;34m)\u001b[0m\u001b[0;34m\u001b[0m\u001b[0;34m\u001b[0m\u001b[0m\n\u001b[1;32m    167\u001b[0m \u001b[0;34m\u001b[0m\u001b[0m\n",
      "\u001b[0;32m/home/chhabra4/anaconda3/envs/attack/lib/python3.6/site-packages/tensorflow/python/ops/variable_scope.py\u001b[0m in \u001b[0;36mget_variable\u001b[0;34m(name, shape, dtype, initializer, regularizer, trainable, collections, caching_device, partitioner, validate_shape, use_resource, custom_getter, constraint, synchronization, aggregation)\u001b[0m\n\u001b[1;32m   1477\u001b[0m       \u001b[0mconstraint\u001b[0m\u001b[0;34m=\u001b[0m\u001b[0mconstraint\u001b[0m\u001b[0;34m,\u001b[0m\u001b[0;34m\u001b[0m\u001b[0;34m\u001b[0m\u001b[0m\n\u001b[1;32m   1478\u001b[0m       \u001b[0msynchronization\u001b[0m\u001b[0;34m=\u001b[0m\u001b[0msynchronization\u001b[0m\u001b[0;34m,\u001b[0m\u001b[0;34m\u001b[0m\u001b[0;34m\u001b[0m\u001b[0m\n\u001b[0;32m-> 1479\u001b[0;31m       aggregation=aggregation)\n\u001b[0m\u001b[1;32m   1480\u001b[0m \u001b[0;34m\u001b[0m\u001b[0m\n\u001b[1;32m   1481\u001b[0m \u001b[0;34m\u001b[0m\u001b[0m\n",
      "\u001b[0;32m/home/chhabra4/anaconda3/envs/attack/lib/python3.6/site-packages/tensorflow/python/ops/variable_scope.py\u001b[0m in \u001b[0;36mget_variable\u001b[0;34m(self, var_store, name, shape, dtype, initializer, regularizer, reuse, trainable, collections, caching_device, partitioner, validate_shape, use_resource, custom_getter, constraint, synchronization, aggregation)\u001b[0m\n\u001b[1;32m   1218\u001b[0m           \u001b[0mconstraint\u001b[0m\u001b[0;34m=\u001b[0m\u001b[0mconstraint\u001b[0m\u001b[0;34m,\u001b[0m\u001b[0;34m\u001b[0m\u001b[0;34m\u001b[0m\u001b[0m\n\u001b[1;32m   1219\u001b[0m           \u001b[0msynchronization\u001b[0m\u001b[0;34m=\u001b[0m\u001b[0msynchronization\u001b[0m\u001b[0;34m,\u001b[0m\u001b[0;34m\u001b[0m\u001b[0;34m\u001b[0m\u001b[0m\n\u001b[0;32m-> 1220\u001b[0;31m           aggregation=aggregation)\n\u001b[0m\u001b[1;32m   1221\u001b[0m \u001b[0;34m\u001b[0m\u001b[0m\n\u001b[1;32m   1222\u001b[0m   def _get_partitioned_variable(self,\n",
      "\u001b[0;32m/home/chhabra4/anaconda3/envs/attack/lib/python3.6/site-packages/tensorflow/python/ops/variable_scope.py\u001b[0m in \u001b[0;36mget_variable\u001b[0;34m(self, name, shape, dtype, initializer, regularizer, reuse, trainable, collections, caching_device, partitioner, validate_shape, use_resource, custom_getter, constraint, synchronization, aggregation)\u001b[0m\n\u001b[1;32m    545\u001b[0m           \u001b[0mconstraint\u001b[0m\u001b[0;34m=\u001b[0m\u001b[0mconstraint\u001b[0m\u001b[0;34m,\u001b[0m\u001b[0;34m\u001b[0m\u001b[0;34m\u001b[0m\u001b[0m\n\u001b[1;32m    546\u001b[0m           \u001b[0msynchronization\u001b[0m\u001b[0;34m=\u001b[0m\u001b[0msynchronization\u001b[0m\u001b[0;34m,\u001b[0m\u001b[0;34m\u001b[0m\u001b[0;34m\u001b[0m\u001b[0m\n\u001b[0;32m--> 547\u001b[0;31m           aggregation=aggregation)\n\u001b[0m\u001b[1;32m    548\u001b[0m \u001b[0;34m\u001b[0m\u001b[0m\n\u001b[1;32m    549\u001b[0m   def _get_partitioned_variable(self,\n",
      "\u001b[0;32m/home/chhabra4/anaconda3/envs/attack/lib/python3.6/site-packages/tensorflow/python/ops/variable_scope.py\u001b[0m in \u001b[0;36m_true_getter\u001b[0;34m(name, shape, dtype, initializer, regularizer, reuse, trainable, collections, caching_device, partitioner, validate_shape, use_resource, constraint, synchronization, aggregation)\u001b[0m\n\u001b[1;32m    497\u001b[0m           \u001b[0mconstraint\u001b[0m\u001b[0;34m=\u001b[0m\u001b[0mconstraint\u001b[0m\u001b[0;34m,\u001b[0m\u001b[0;34m\u001b[0m\u001b[0;34m\u001b[0m\u001b[0m\n\u001b[1;32m    498\u001b[0m           \u001b[0msynchronization\u001b[0m\u001b[0;34m=\u001b[0m\u001b[0msynchronization\u001b[0m\u001b[0;34m,\u001b[0m\u001b[0;34m\u001b[0m\u001b[0;34m\u001b[0m\u001b[0m\n\u001b[0;32m--> 499\u001b[0;31m           aggregation=aggregation)\n\u001b[0m\u001b[1;32m    500\u001b[0m \u001b[0;34m\u001b[0m\u001b[0m\n\u001b[1;32m    501\u001b[0m     \u001b[0;31m# Set trainable value based on synchronization value.\u001b[0m\u001b[0;34m\u001b[0m\u001b[0;34m\u001b[0m\u001b[0;34m\u001b[0m\u001b[0m\n",
      "\u001b[0;32m/home/chhabra4/anaconda3/envs/attack/lib/python3.6/site-packages/tensorflow/python/ops/variable_scope.py\u001b[0m in \u001b[0;36m_get_single_variable\u001b[0;34m(self, name, shape, dtype, initializer, regularizer, partition_info, reuse, trainable, collections, caching_device, validate_shape, use_resource, constraint, synchronization, aggregation)\u001b[0m\n\u001b[1;32m    846\u001b[0m         \u001b[0mtb\u001b[0m \u001b[0;34m=\u001b[0m \u001b[0;34m[\u001b[0m\u001b[0mx\u001b[0m \u001b[0;32mfor\u001b[0m \u001b[0mx\u001b[0m \u001b[0;32min\u001b[0m \u001b[0mtb\u001b[0m \u001b[0;32mif\u001b[0m \u001b[0;34m\"tensorflow/python\"\u001b[0m \u001b[0;32mnot\u001b[0m \u001b[0;32min\u001b[0m \u001b[0mx\u001b[0m\u001b[0;34m[\u001b[0m\u001b[0;36m0\u001b[0m\u001b[0;34m]\u001b[0m\u001b[0;34m]\u001b[0m\u001b[0;34m[\u001b[0m\u001b[0;34m:\u001b[0m\u001b[0;36m3\u001b[0m\u001b[0;34m]\u001b[0m\u001b[0;34m\u001b[0m\u001b[0;34m\u001b[0m\u001b[0m\n\u001b[1;32m    847\u001b[0m         raise ValueError(\"%s Originally defined at:\\n\\n%s\" % (err_msg, \"\".join(\n\u001b[0;32m--> 848\u001b[0;31m             traceback.format_list(tb))))\n\u001b[0m\u001b[1;32m    849\u001b[0m       \u001b[0mfound_var\u001b[0m \u001b[0;34m=\u001b[0m \u001b[0mself\u001b[0m\u001b[0;34m.\u001b[0m\u001b[0m_vars\u001b[0m\u001b[0;34m[\u001b[0m\u001b[0mname\u001b[0m\u001b[0;34m]\u001b[0m\u001b[0;34m\u001b[0m\u001b[0;34m\u001b[0m\u001b[0m\n\u001b[1;32m    850\u001b[0m       \u001b[0;32mif\u001b[0m \u001b[0;32mnot\u001b[0m \u001b[0mshape\u001b[0m\u001b[0;34m.\u001b[0m\u001b[0mis_compatible_with\u001b[0m\u001b[0;34m(\u001b[0m\u001b[0mfound_var\u001b[0m\u001b[0;34m.\u001b[0m\u001b[0mget_shape\u001b[0m\u001b[0;34m(\u001b[0m\u001b[0;34m)\u001b[0m\u001b[0;34m)\u001b[0m\u001b[0;34m:\u001b[0m\u001b[0;34m\u001b[0m\u001b[0;34m\u001b[0m\u001b[0m\n",
      "\u001b[0;31mValueError\u001b[0m: Variable input/init_conv/DW already exists, disallowed. Did you mean to set reuse=True or reuse=tf.AUTO_REUSE in VarScope? Originally defined at:\n\n  File \"/home/chhabra4/Hybrid-Attack/cifar10/robust_model_utils/madry_model.py\", line 165, in _conv\n    stddev=np.sqrt(2.0/n)))\n  File \"/home/chhabra4/Hybrid-Attack/cifar10/robust_model_utils/madry_model.py\", line 42, in _build_model\n    x = self._conv('init_conv', input_standardized, 3, 3, 16, self._stride_arr(1))\n  File \"/home/chhabra4/Hybrid-Attack/cifar10/robust_model_utils/madry_model.py\", line 19, in __init__\n    self._build_model()\n"
     ]
    }
   ],
   "source": []
  },
  {
   "cell_type": "code",
   "execution_count": 13,
   "metadata": {},
   "outputs": [
    {
     "data": {
      "text/plain": [
       "(10000, 32, 32, 3)"
      ]
     },
     "execution_count": 13,
     "metadata": {},
     "output_type": "execute_result"
    }
   ],
   "source": [
    "x_test.shape"
   ]
  },
  {
   "cell_type": "code",
   "execution_count": 16,
   "metadata": {},
   "outputs": [
    {
     "data": {
      "text/plain": [
       "(32, 32, 3)"
      ]
     },
     "execution_count": 16,
     "metadata": {},
     "output_type": "execute_result"
    }
   ],
   "source": [
    "target_model.shape"
   ]
  },
  {
   "cell_type": "code",
   "execution_count": 19,
   "metadata": {},
   "outputs": [
    {
     "data": {
      "text/plain": [
       "numpy.ndarray"
      ]
     },
     "execution_count": 19,
     "metadata": {},
     "output_type": "execute_result"
    }
   ],
   "source": [
    "type(x_test)"
   ]
  },
  {
   "cell_type": "code",
   "execution_count": 64,
   "metadata": {},
   "outputs": [],
   "source": [
    "test1 = np.ndarray(shape=(1,32,32,3), dtype=float)"
   ]
  },
  {
   "cell_type": "code",
   "execution_count": 65,
   "metadata": {},
   "outputs": [],
   "source": [
    "test1[0] = x_test[1]"
   ]
  },
  {
   "cell_type": "code",
   "execution_count": 23,
   "metadata": {
    "collapsed": true,
    "jupyter": {
     "outputs_hidden": true
    }
   },
   "outputs": [
    {
     "data": {
      "text/plain": [
       "array([[[[0.61960787, 0.43921569, 0.19215687],\n",
       "         [0.62352943, 0.43529412, 0.18431373],\n",
       "         [0.64705884, 0.45490196, 0.2       ],\n",
       "         ...,\n",
       "         [0.53725493, 0.37254903, 0.14117648],\n",
       "         [0.49411765, 0.35686275, 0.14117648],\n",
       "         [0.45490196, 0.33333334, 0.12941177]],\n",
       "\n",
       "        [[0.59607846, 0.43921569, 0.2       ],\n",
       "         [0.59215689, 0.43137255, 0.15686275],\n",
       "         [0.62352943, 0.44705883, 0.17647059],\n",
       "         ...,\n",
       "         [0.53333336, 0.37254903, 0.12156863],\n",
       "         [0.49019608, 0.35686275, 0.1254902 ],\n",
       "         [0.46666667, 0.34509805, 0.13333334]],\n",
       "\n",
       "        [[0.59215689, 0.43137255, 0.18431373],\n",
       "         [0.59215689, 0.42745098, 0.12941177],\n",
       "         [0.61960787, 0.43529412, 0.14117648],\n",
       "         ...,\n",
       "         [0.54509807, 0.38431373, 0.13333334],\n",
       "         [0.50980395, 0.37254903, 0.13333334],\n",
       "         [0.47058824, 0.34901962, 0.12941177]],\n",
       "\n",
       "        ...,\n",
       "\n",
       "        [[0.26666668, 0.48627451, 0.69411767],\n",
       "         [0.16470589, 0.39215687, 0.58039218],\n",
       "         [0.12156863, 0.34509805, 0.53725493],\n",
       "         ...,\n",
       "         [0.14901961, 0.38039216, 0.57254905],\n",
       "         [0.05098039, 0.25098041, 0.42352942],\n",
       "         [0.15686275, 0.33333334, 0.49803922]],\n",
       "\n",
       "        [[0.23921569, 0.45490196, 0.65882355],\n",
       "         [0.19215687, 0.40000001, 0.58039218],\n",
       "         [0.13725491, 0.33333334, 0.51764709],\n",
       "         ...,\n",
       "         [0.10196079, 0.32156864, 0.50980395],\n",
       "         [0.11372549, 0.32156864, 0.49411765],\n",
       "         [0.07843138, 0.25098041, 0.41960785]],\n",
       "\n",
       "        [[0.21176471, 0.41960785, 0.627451  ],\n",
       "         [0.21960784, 0.41176471, 0.58431375],\n",
       "         [0.17647059, 0.34901962, 0.51764709],\n",
       "         ...,\n",
       "         [0.09411765, 0.3019608 , 0.48627451],\n",
       "         [0.13333334, 0.32941177, 0.50588238],\n",
       "         [0.08235294, 0.26274511, 0.43137255]]]])"
      ]
     },
     "execution_count": 23,
     "metadata": {},
     "output_type": "execute_result"
    }
   ],
   "source": [
    "test1"
   ]
  },
  {
   "cell_type": "code",
   "execution_count": 24,
   "metadata": {},
   "outputs": [
    {
     "data": {
      "text/plain": [
       "(1, 32, 32, 3)"
      ]
     },
     "execution_count": 24,
     "metadata": {},
     "output_type": "execute_result"
    }
   ],
   "source": [
    "test1.shape"
   ]
  },
  {
   "cell_type": "code",
   "execution_count": 25,
   "metadata": {},
   "outputs": [
    {
     "data": {
      "text/plain": [
       "1"
      ]
     },
     "execution_count": 25,
     "metadata": {},
     "output_type": "execute_result"
    }
   ],
   "source": [
    "len(test1)"
   ]
  },
  {
   "cell_type": "code",
   "execution_count": 26,
   "metadata": {},
   "outputs": [
    {
     "data": {
      "text/plain": [
       "10000"
      ]
     },
     "execution_count": 26,
     "metadata": {},
     "output_type": "execute_result"
    }
   ],
   "source": [
    "len(x_test)"
   ]
  },
  {
   "cell_type": "code",
   "execution_count": 139,
   "metadata": {},
   "outputs": [],
   "source": [
    "res = target_model.predict_prob(test1)"
   ]
  },
  {
   "cell_type": "code",
   "execution_count": 140,
   "metadata": {},
   "outputs": [
    {
     "data": {
      "text/plain": [
       "(1, 10)"
      ]
     },
     "execution_count": 140,
     "metadata": {},
     "output_type": "execute_result"
    }
   ],
   "source": [
    "res.shape"
   ]
  },
  {
   "cell_type": "code",
   "execution_count": 46,
   "metadata": {},
   "outputs": [
    {
     "data": {
      "text/plain": [
       "-9990000"
      ]
     },
     "execution_count": 46,
     "metadata": {},
     "output_type": "execute_result"
    }
   ],
   "source": [
    "len(y_test) - np.sum(res == y_test)"
   ]
  },
  {
   "cell_type": "code",
   "execution_count": 48,
   "metadata": {},
   "outputs": [
    {
     "data": {
      "text/plain": [
       "(10000, 1)"
      ]
     },
     "execution_count": 48,
     "metadata": {},
     "output_type": "execute_result"
    }
   ],
   "source": [
    "y_test.shape"
   ]
  },
  {
   "cell_type": "code",
   "execution_count": 49,
   "metadata": {},
   "outputs": [
    {
     "data": {
      "text/plain": [
       "(10000,)"
      ]
     },
     "execution_count": 49,
     "metadata": {},
     "output_type": "execute_result"
    }
   ],
   "source": [
    "res.shape"
   ]
  },
  {
   "cell_type": "code",
   "execution_count": 56,
   "metadata": {},
   "outputs": [
    {
     "name": "stdout",
     "output_type": "stream",
     "text": [
      "87.25\n"
     ]
    }
   ],
   "source": [
    "count = 0\n",
    "for i in range(10000):\n",
    "    if y_test[i][0] == res[i]:\n",
    "        count +=1\n",
    "print(count*100.00/10000)"
   ]
  },
  {
   "cell_type": "code",
   "execution_count": null,
   "metadata": {},
   "outputs": [],
   "source": []
  }
 ],
 "metadata": {
  "kernelspec": {
   "display_name": "Python 3",
   "language": "python",
   "name": "python3"
  },
  "language_info": {
   "codemirror_mode": {
    "name": "ipython",
    "version": 3
   },
   "file_extension": ".py",
   "mimetype": "text/x-python",
   "name": "python",
   "nbconvert_exporter": "python",
   "pygments_lexer": "ipython3",
   "version": "3.6.8"
  }
 },
 "nbformat": 4,
 "nbformat_minor": 4
}
